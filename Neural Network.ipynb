{
 "cells": [
  {
   "cell_type": "code",
   "execution_count": 31,
   "metadata": {},
   "outputs": [],
   "source": [
    "import tensorflow as tf \n",
    "from tensorflow import keras \n",
    "import numpy as np \n",
    "import pandas as pd \n",
    "import datetime as dt\n",
    "from matplotlib import pyplot as plt"
   ]
  },
  {
   "cell_type": "code",
   "execution_count": 3,
   "metadata": {},
   "outputs": [],
   "source": [
    "# Load in the data\n",
    "dataset = pd.read_csv('coin_Bitcoin.csv', index_col='Name', parse_dates=True)"
   ]
  },
  {
   "cell_type": "code",
   "execution_count": 4,
   "metadata": {},
   "outputs": [
    {
     "data": {
      "text/html": [
       "<div>\n",
       "<style scoped>\n",
       "    .dataframe tbody tr th:only-of-type {\n",
       "        vertical-align: middle;\n",
       "    }\n",
       "\n",
       "    .dataframe tbody tr th {\n",
       "        vertical-align: top;\n",
       "    }\n",
       "\n",
       "    .dataframe thead th {\n",
       "        text-align: right;\n",
       "    }\n",
       "</style>\n",
       "<table border=\"1\" class=\"dataframe\">\n",
       "  <thead>\n",
       "    <tr style=\"text-align: right;\">\n",
       "      <th></th>\n",
       "      <th>SNo</th>\n",
       "      <th>Symbol</th>\n",
       "      <th>Date</th>\n",
       "      <th>High</th>\n",
       "      <th>Low</th>\n",
       "      <th>Open</th>\n",
       "      <th>Close</th>\n",
       "      <th>Volume</th>\n",
       "      <th>Marketcap</th>\n",
       "    </tr>\n",
       "    <tr>\n",
       "      <th>Name</th>\n",
       "      <th></th>\n",
       "      <th></th>\n",
       "      <th></th>\n",
       "      <th></th>\n",
       "      <th></th>\n",
       "      <th></th>\n",
       "      <th></th>\n",
       "      <th></th>\n",
       "      <th></th>\n",
       "    </tr>\n",
       "  </thead>\n",
       "  <tbody>\n",
       "    <tr>\n",
       "      <th>Bitcoin</th>\n",
       "      <td>1</td>\n",
       "      <td>BTC</td>\n",
       "      <td>2013-04-29 23:59:59</td>\n",
       "      <td>147.488007</td>\n",
       "      <td>134.000000</td>\n",
       "      <td>134.444000</td>\n",
       "      <td>144.539993</td>\n",
       "      <td>0.0</td>\n",
       "      <td>1.603769e+09</td>\n",
       "    </tr>\n",
       "    <tr>\n",
       "      <th>Bitcoin</th>\n",
       "      <td>2</td>\n",
       "      <td>BTC</td>\n",
       "      <td>2013-04-30 23:59:59</td>\n",
       "      <td>146.929993</td>\n",
       "      <td>134.050003</td>\n",
       "      <td>144.000000</td>\n",
       "      <td>139.000000</td>\n",
       "      <td>0.0</td>\n",
       "      <td>1.542813e+09</td>\n",
       "    </tr>\n",
       "    <tr>\n",
       "      <th>Bitcoin</th>\n",
       "      <td>3</td>\n",
       "      <td>BTC</td>\n",
       "      <td>2013-05-01 23:59:59</td>\n",
       "      <td>139.889999</td>\n",
       "      <td>107.720001</td>\n",
       "      <td>139.000000</td>\n",
       "      <td>116.989998</td>\n",
       "      <td>0.0</td>\n",
       "      <td>1.298955e+09</td>\n",
       "    </tr>\n",
       "    <tr>\n",
       "      <th>Bitcoin</th>\n",
       "      <td>4</td>\n",
       "      <td>BTC</td>\n",
       "      <td>2013-05-02 23:59:59</td>\n",
       "      <td>125.599998</td>\n",
       "      <td>92.281898</td>\n",
       "      <td>116.379997</td>\n",
       "      <td>105.209999</td>\n",
       "      <td>0.0</td>\n",
       "      <td>1.168517e+09</td>\n",
       "    </tr>\n",
       "    <tr>\n",
       "      <th>Bitcoin</th>\n",
       "      <td>5</td>\n",
       "      <td>BTC</td>\n",
       "      <td>2013-05-03 23:59:59</td>\n",
       "      <td>108.127998</td>\n",
       "      <td>79.099998</td>\n",
       "      <td>106.250000</td>\n",
       "      <td>97.750000</td>\n",
       "      <td>0.0</td>\n",
       "      <td>1.085995e+09</td>\n",
       "    </tr>\n",
       "  </tbody>\n",
       "</table>\n",
       "</div>"
      ],
      "text/plain": [
       "         SNo Symbol                 Date        High         Low        Open  \\\n",
       "Name                                                                           \n",
       "Bitcoin    1    BTC  2013-04-29 23:59:59  147.488007  134.000000  134.444000   \n",
       "Bitcoin    2    BTC  2013-04-30 23:59:59  146.929993  134.050003  144.000000   \n",
       "Bitcoin    3    BTC  2013-05-01 23:59:59  139.889999  107.720001  139.000000   \n",
       "Bitcoin    4    BTC  2013-05-02 23:59:59  125.599998   92.281898  116.379997   \n",
       "Bitcoin    5    BTC  2013-05-03 23:59:59  108.127998   79.099998  106.250000   \n",
       "\n",
       "              Close  Volume     Marketcap  \n",
       "Name                                       \n",
       "Bitcoin  144.539993     0.0  1.603769e+09  \n",
       "Bitcoin  139.000000     0.0  1.542813e+09  \n",
       "Bitcoin  116.989998     0.0  1.298955e+09  \n",
       "Bitcoin  105.209999     0.0  1.168517e+09  \n",
       "Bitcoin   97.750000     0.0  1.085995e+09  "
      ]
     },
     "execution_count": 4,
     "metadata": {},
     "output_type": "execute_result"
    }
   ],
   "source": [
    "dataset.head()"
   ]
  },
  {
   "cell_type": "code",
   "execution_count": 5,
   "metadata": {},
   "outputs": [
    {
     "data": {
      "text/plain": [
       "SNo          False\n",
       "Symbol       False\n",
       "Date         False\n",
       "High         False\n",
       "Low          False\n",
       "Open         False\n",
       "Close        False\n",
       "Volume       False\n",
       "Marketcap    False\n",
       "dtype: bool"
      ]
     },
     "execution_count": 5,
     "metadata": {},
     "output_type": "execute_result"
    }
   ],
   "source": [
    "dataset.isna().any()"
   ]
  },
  {
   "cell_type": "code",
   "execution_count": 6,
   "metadata": {},
   "outputs": [
    {
     "name": "stdout",
     "output_type": "stream",
     "text": [
      "<class 'pandas.core.frame.DataFrame'>\n",
      "Index: 2862 entries, Bitcoin to Bitcoin\n",
      "Data columns (total 9 columns):\n",
      " #   Column     Non-Null Count  Dtype  \n",
      "---  ------     --------------  -----  \n",
      " 0   SNo        2862 non-null   int64  \n",
      " 1   Symbol     2862 non-null   object \n",
      " 2   Date       2862 non-null   object \n",
      " 3   High       2862 non-null   float64\n",
      " 4   Low        2862 non-null   float64\n",
      " 5   Open       2862 non-null   float64\n",
      " 6   Close      2862 non-null   float64\n",
      " 7   Volume     2862 non-null   float64\n",
      " 8   Marketcap  2862 non-null   float64\n",
      "dtypes: float64(6), int64(1), object(2)\n",
      "memory usage: 223.6+ KB\n"
     ]
    }
   ],
   "source": [
    "# Getting some information on the dataset\n",
    "dataset.info()"
   ]
  },
  {
   "cell_type": "code",
   "execution_count": 10,
   "metadata": {},
   "outputs": [
    {
     "data": {
      "text/plain": [
       "<AxesSubplot:>"
      ]
     },
     "execution_count": 10,
     "metadata": {},
     "output_type": "execute_result"
    },
    {
     "data": {
      "image/png": "[encoded data removed]",
      "text/plain": [
       "<Figure size 1152x432 with 1 Axes>"
      ]
     },
     "metadata": {
      "needs_background": "light"
     },
     "output_type": "display_data"
    }
   ],
   "source": [
    "# Plotting some of the data\n",
    "dataset['High'].hist(figsize=(16,6))"
   ]
  },
  {
   "cell_type": "code",
   "execution_count": 11,
   "metadata": {},
   "outputs": [
    {
     "data": {
      "text/html": [
       "<div>\n",
       "<style scoped>\n",
       "    .dataframe tbody tr th:only-of-type {\n",
       "        vertical-align: middle;\n",
       "    }\n",
       "\n",
       "    .dataframe tbody tr th {\n",
       "        vertical-align: top;\n",
       "    }\n",
       "\n",
       "    .dataframe thead th {\n",
       "        text-align: right;\n",
       "    }\n",
       "</style>\n",
       "<table border=\"1\" class=\"dataframe\">\n",
       "  <thead>\n",
       "    <tr style=\"text-align: right;\">\n",
       "      <th></th>\n",
       "      <th>SNo</th>\n",
       "      <th>High</th>\n",
       "      <th>Low</th>\n",
       "      <th>Open</th>\n",
       "      <th>Close</th>\n",
       "      <th>Volume</th>\n",
       "      <th>Marketcap</th>\n",
       "    </tr>\n",
       "    <tr>\n",
       "      <th>Name</th>\n",
       "      <th></th>\n",
       "      <th></th>\n",
       "      <th></th>\n",
       "      <th></th>\n",
       "      <th></th>\n",
       "      <th></th>\n",
       "      <th></th>\n",
       "    </tr>\n",
       "  </thead>\n",
       "  <tbody>\n",
       "    <tr>\n",
       "      <th>Bitcoin</th>\n",
       "      <td>NaN</td>\n",
       "      <td>NaN</td>\n",
       "      <td>NaN</td>\n",
       "      <td>NaN</td>\n",
       "      <td>NaN</td>\n",
       "      <td>NaN</td>\n",
       "      <td>NaN</td>\n",
       "    </tr>\n",
       "    <tr>\n",
       "      <th>Bitcoin</th>\n",
       "      <td>NaN</td>\n",
       "      <td>NaN</td>\n",
       "      <td>NaN</td>\n",
       "      <td>NaN</td>\n",
       "      <td>NaN</td>\n",
       "      <td>NaN</td>\n",
       "      <td>NaN</td>\n",
       "    </tr>\n",
       "    <tr>\n",
       "      <th>Bitcoin</th>\n",
       "      <td>NaN</td>\n",
       "      <td>NaN</td>\n",
       "      <td>NaN</td>\n",
       "      <td>NaN</td>\n",
       "      <td>NaN</td>\n",
       "      <td>NaN</td>\n",
       "      <td>NaN</td>\n",
       "    </tr>\n",
       "    <tr>\n",
       "      <th>Bitcoin</th>\n",
       "      <td>NaN</td>\n",
       "      <td>NaN</td>\n",
       "      <td>NaN</td>\n",
       "      <td>NaN</td>\n",
       "      <td>NaN</td>\n",
       "      <td>NaN</td>\n",
       "      <td>NaN</td>\n",
       "    </tr>\n",
       "    <tr>\n",
       "      <th>Bitcoin</th>\n",
       "      <td>NaN</td>\n",
       "      <td>NaN</td>\n",
       "      <td>NaN</td>\n",
       "      <td>NaN</td>\n",
       "      <td>NaN</td>\n",
       "      <td>NaN</td>\n",
       "      <td>NaN</td>\n",
       "    </tr>\n",
       "    <tr>\n",
       "      <th>Bitcoin</th>\n",
       "      <td>NaN</td>\n",
       "      <td>NaN</td>\n",
       "      <td>NaN</td>\n",
       "      <td>NaN</td>\n",
       "      <td>NaN</td>\n",
       "      <td>NaN</td>\n",
       "      <td>NaN</td>\n",
       "    </tr>\n",
       "    <tr>\n",
       "      <th>Bitcoin</th>\n",
       "      <td>4.0</td>\n",
       "      <td>128.833714</td>\n",
       "      <td>106.684986</td>\n",
       "      <td>121.582000</td>\n",
       "      <td>118.842856</td>\n",
       "      <td>0.0</td>\n",
       "      <td>1.319866e+09</td>\n",
       "    </tr>\n",
       "    <tr>\n",
       "      <th>Bitcoin</th>\n",
       "      <td>5.0</td>\n",
       "      <td>125.572999</td>\n",
       "      <td>102.776414</td>\n",
       "      <td>118.944286</td>\n",
       "      <td>114.237143</td>\n",
       "      <td>0.0</td>\n",
       "      <td>1.269188e+09</td>\n",
       "    </tr>\n",
       "    <tr>\n",
       "      <th>Bitcoin</th>\n",
       "      <td>6.0</td>\n",
       "      <td>120.789286</td>\n",
       "      <td>97.583556</td>\n",
       "      <td>114.408572</td>\n",
       "      <td>110.308572</td>\n",
       "      <td>0.0</td>\n",
       "      <td>1.226013e+09</td>\n",
       "    </tr>\n",
       "    <tr>\n",
       "      <th>Bitcoin</th>\n",
       "      <td>7.0</td>\n",
       "      <td>117.345000</td>\n",
       "      <td>97.852127</td>\n",
       "      <td>110.208571</td>\n",
       "      <td>109.819430</td>\n",
       "      <td>0.0</td>\n",
       "      <td>1.221027e+09</td>\n",
       "    </tr>\n",
       "    <tr>\n",
       "      <th>Bitcoin</th>\n",
       "      <td>8.0</td>\n",
       "      <td>115.610715</td>\n",
       "      <td>100.277570</td>\n",
       "      <td>109.754286</td>\n",
       "      <td>110.885144</td>\n",
       "      <td>0.0</td>\n",
       "      <td>1.233315e+09</td>\n",
       "    </tr>\n",
       "    <tr>\n",
       "      <th>Bitcoin</th>\n",
       "      <td>9.0</td>\n",
       "      <td>117.592429</td>\n",
       "      <td>104.913428</td>\n",
       "      <td>110.689857</td>\n",
       "      <td>113.663715</td>\n",
       "      <td>0.0</td>\n",
       "      <td>1.264670e+09</td>\n",
       "    </tr>\n",
       "    <tr>\n",
       "      <th>Bitcoin</th>\n",
       "      <td>10.0</td>\n",
       "      <td>118.118001</td>\n",
       "      <td>107.843428</td>\n",
       "      <td>113.489857</td>\n",
       "      <td>114.055571</td>\n",
       "      <td>0.0</td>\n",
       "      <td>1.269512e+09</td>\n",
       "    </tr>\n",
       "    <tr>\n",
       "      <th>Bitcoin</th>\n",
       "      <td>11.0</td>\n",
       "      <td>117.925000</td>\n",
       "      <td>108.742286</td>\n",
       "      <td>113.881286</td>\n",
       "      <td>113.925571</td>\n",
       "      <td>0.0</td>\n",
       "      <td>1.268553e+09</td>\n",
       "    </tr>\n",
       "    <tr>\n",
       "      <th>Bitcoin</th>\n",
       "      <td>12.0</td>\n",
       "      <td>117.072999</td>\n",
       "      <td>109.865143</td>\n",
       "      <td>113.715571</td>\n",
       "      <td>114.737000</td>\n",
       "      <td>0.0</td>\n",
       "      <td>1.278080e+09</td>\n",
       "    </tr>\n",
       "    <tr>\n",
       "      <th>Bitcoin</th>\n",
       "      <td>13.0</td>\n",
       "      <td>117.981000</td>\n",
       "      <td>111.658000</td>\n",
       "      <td>114.534143</td>\n",
       "      <td>114.737000</td>\n",
       "      <td>0.0</td>\n",
       "      <td>1.278548e+09</td>\n",
       "    </tr>\n",
       "    <tr>\n",
       "      <th>Bitcoin</th>\n",
       "      <td>14.0</td>\n",
       "      <td>117.985285</td>\n",
       "      <td>110.786572</td>\n",
       "      <td>114.791286</td>\n",
       "      <td>114.830428</td>\n",
       "      <td>0.0</td>\n",
       "      <td>1.280059e+09</td>\n",
       "    </tr>\n",
       "    <tr>\n",
       "      <th>Bitcoin</th>\n",
       "      <td>15.0</td>\n",
       "      <td>118.742428</td>\n",
       "      <td>111.206571</td>\n",
       "      <td>114.937001</td>\n",
       "      <td>115.700429</td>\n",
       "      <td>0.0</td>\n",
       "      <td>1.290229e+09</td>\n",
       "    </tr>\n",
       "    <tr>\n",
       "      <th>Bitcoin</th>\n",
       "      <td>16.0</td>\n",
       "      <td>119.213857</td>\n",
       "      <td>111.923714</td>\n",
       "      <td>115.710000</td>\n",
       "      <td>116.531143</td>\n",
       "      <td>0.0</td>\n",
       "      <td>1.299978e+09</td>\n",
       "    </tr>\n",
       "    <tr>\n",
       "      <th>Bitcoin</th>\n",
       "      <td>17.0</td>\n",
       "      <td>120.152572</td>\n",
       "      <td>113.250857</td>\n",
       "      <td>116.538572</td>\n",
       "      <td>117.710430</td>\n",
       "      <td>0.0</td>\n",
       "      <td>1.313602e+09</td>\n",
       "    </tr>\n",
       "  </tbody>\n",
       "</table>\n",
       "</div>"
      ],
      "text/plain": [
       "          SNo        High         Low        Open       Close  Volume  \\\n",
       "Name                                                                    \n",
       "Bitcoin   NaN         NaN         NaN         NaN         NaN     NaN   \n",
       "Bitcoin   NaN         NaN         NaN         NaN         NaN     NaN   \n",
       "Bitcoin   NaN         NaN         NaN         NaN         NaN     NaN   \n",
       "Bitcoin   NaN         NaN         NaN         NaN         NaN     NaN   \n",
       "Bitcoin   NaN         NaN         NaN         NaN         NaN     NaN   \n",
       "Bitcoin   NaN         NaN         NaN         NaN         NaN     NaN   \n",
       "Bitcoin   4.0  128.833714  106.684986  121.582000  118.842856     0.0   \n",
       "Bitcoin   5.0  125.572999  102.776414  118.944286  114.237143     0.0   \n",
       "Bitcoin   6.0  120.789286   97.583556  114.408572  110.308572     0.0   \n",
       "Bitcoin   7.0  117.345000   97.852127  110.208571  109.819430     0.0   \n",
       "Bitcoin   8.0  115.610715  100.277570  109.754286  110.885144     0.0   \n",
       "Bitcoin   9.0  117.592429  104.913428  110.689857  113.663715     0.0   \n",
       "Bitcoin  10.0  118.118001  107.843428  113.489857  114.055571     0.0   \n",
       "Bitcoin  11.0  117.925000  108.742286  113.881286  113.925571     0.0   \n",
       "Bitcoin  12.0  117.072999  109.865143  113.715571  114.737000     0.0   \n",
       "Bitcoin  13.0  117.981000  111.658000  114.534143  114.737000     0.0   \n",
       "Bitcoin  14.0  117.985285  110.786572  114.791286  114.830428     0.0   \n",
       "Bitcoin  15.0  118.742428  111.206571  114.937001  115.700429     0.0   \n",
       "Bitcoin  16.0  119.213857  111.923714  115.710000  116.531143     0.0   \n",
       "Bitcoin  17.0  120.152572  113.250857  116.538572  117.710430     0.0   \n",
       "\n",
       "            Marketcap  \n",
       "Name                   \n",
       "Bitcoin           NaN  \n",
       "Bitcoin           NaN  \n",
       "Bitcoin           NaN  \n",
       "Bitcoin           NaN  \n",
       "Bitcoin           NaN  \n",
       "Bitcoin           NaN  \n",
       "Bitcoin  1.319866e+09  \n",
       "Bitcoin  1.269188e+09  \n",
       "Bitcoin  1.226013e+09  \n",
       "Bitcoin  1.221027e+09  \n",
       "Bitcoin  1.233315e+09  \n",
       "Bitcoin  1.264670e+09  \n",
       "Bitcoin  1.269512e+09  \n",
       "Bitcoin  1.268553e+09  \n",
       "Bitcoin  1.278080e+09  \n",
       "Bitcoin  1.278548e+09  \n",
       "Bitcoin  1.280059e+09  \n",
       "Bitcoin  1.290229e+09  \n",
       "Bitcoin  1.299978e+09  \n",
       "Bitcoin  1.313602e+09  "
      ]
     },
     "execution_count": 11,
     "metadata": {},
     "output_type": "execute_result"
    }
   ],
   "source": [
    "# Blurring out the first seven lines of the dataset for predictions\n",
    "dataset.rolling(7).mean().head(20)"
   ]
  },
  {
   "cell_type": "code",
   "execution_count": 12,
   "metadata": {},
   "outputs": [],
   "source": [
    "training_set = dataset['Close']\n",
    "training_set = pd.DataFrame(training_set)"
   ]
  },
  {
   "cell_type": "code",
   "execution_count": 13,
   "metadata": {},
   "outputs": [
    {
     "name": "stdout",
     "output_type": "stream",
     "text": [
      "                Close\n",
      "Name                 \n",
      "Bitcoin    144.539993\n",
      "Bitcoin    139.000000\n",
      "Bitcoin    116.989998\n",
      "Bitcoin    105.209999\n",
      "Bitcoin     97.750000\n",
      "...               ...\n",
      "Bitcoin  48824.426869\n",
      "Bitcoin  49705.333316\n",
      "Bitcoin  47093.853019\n",
      "Bitcoin  46339.760083\n",
      "Bitcoin  46188.451275\n",
      "\n",
      "[2862 rows x 1 columns]\n"
     ]
    }
   ],
   "source": [
    "print(training_set)"
   ]
  },
  {
   "cell_type": "code",
   "execution_count": 45,
   "metadata": {},
   "outputs": [],
   "source": [
    "# Doing the feature scaling in the data\n",
    "from sklearn.preprocessing import MinMaxScaler\n",
    "sc = MinMaxScaler(feature_range = (0, 1))\n",
    "training_set_scaled = sc.fit_transform(training_set)"
   ]
  },
  {
   "cell_type": "code",
   "execution_count": 19,
   "metadata": {},
   "outputs": [
    {
     "name": "stdout",
     "output_type": "stream",
     "text": [
      "[[[1.32429077e-03]\n",
      "  [1.22789530e-03]\n",
      "  [8.44922917e-04]\n",
      "  ...\n",
      "  [6.18027881e-04]\n",
      "  [6.18897930e-04]\n",
      "  [5.74301861e-04]]\n",
      "\n",
      " [[1.22789530e-03]\n",
      "  [8.44922917e-04]\n",
      "  [6.39951823e-04]\n",
      "  ...\n",
      "  [6.18897930e-04]\n",
      "  [5.74301861e-04]\n",
      "  [4.56194721e-04]]\n",
      "\n",
      " [[8.44922917e-04]\n",
      "  [6.39951823e-04]\n",
      "  [5.10148400e-04]\n",
      "  ...\n",
      "  [5.74301861e-04]\n",
      "  [4.56194721e-04]\n",
      "  [4.62194265e-04]]\n",
      "\n",
      " ...\n",
      "\n",
      " [[4.58811771e-01]\n",
      "  [4.55945256e-01]\n",
      "  [4.70082927e-01]\n",
      "  ...\n",
      "  [1.00000000e+00]\n",
      "  [9.42012582e-01]\n",
      "  [8.48350663e-01]]\n",
      "\n",
      " [[4.55945256e-01]\n",
      "  [4.70082927e-01]\n",
      "  [4.74913645e-01]\n",
      "  ...\n",
      "  [9.42012582e-01]\n",
      "  [8.48350663e-01]\n",
      "  [8.63678369e-01]]\n",
      "\n",
      " [[4.70082927e-01]\n",
      "  [4.74913645e-01]\n",
      "  [5.00639727e-01]\n",
      "  ...\n",
      "  [8.48350663e-01]\n",
      "  [8.63678369e-01]\n",
      "  [8.18238808e-01]]]\n"
     ]
    }
   ],
   "source": [
    "# Creating a data structure with 60 timesteps and 1 output\n",
    "X_train = []\n",
    "y_train = []\n",
    "for i in range(60, 2861):\n",
    "    X_train.append(training_set_scaled[i-60:i, 0])\n",
    "    y_train.append(training_set_scaled[i, 0])\n",
    "X_train, y_train = np.array(X_train), np.array(y_train)\n",
    "\n",
    "# Reshaping\n",
    "X_train = np.reshape(X_train, (X_train.shape[0], X_train.shape[1], 1))\n",
    "\n",
    "print(X_train)"
   ]
  },
  {
   "cell_type": "code",
   "execution_count": 20,
   "metadata": {},
   "outputs": [],
   "source": [
    "# Making the imports to make the neural network\n",
    "import tensorflow as tf \n",
    "from tensorflow import keras\n",
    "from tensorflow.keras.models import Sequential\n",
    "from tensorflow.keras.layers import Dense\n",
    "from tensorflow.keras.layers import LSTM\n",
    "from tensorflow.keras.layers import Dropout"
   ]
  },
  {
   "cell_type": "code",
   "execution_count": 21,
   "metadata": {},
   "outputs": [],
   "source": [
    "regressor = Sequential()\n",
    "\n",
    "# Adding the first LSTM layer and some Dropout regularisation\n",
    "regressor.add(LSTM(units = 50, return_sequences = True, input_shape = (X_train.shape[1], 1)))\n",
    "regressor.add(Dropout(0.2))\n",
    "\n",
    "# Adding a second LSTM layer and some Dropout regularisation\n",
    "regressor.add(LSTM(units = 50, return_sequences = True))\n",
    "regressor.add(Dropout(0.2))\n",
    "\n",
    "# Adding a third LSTM layer and some Dropout regularisation\n",
    "regressor.add(LSTM(units = 50, return_sequences = True))\n",
    "regressor.add(Dropout(0.2))\n",
    "\n",
    "# Adding a fourth LSTM layer and some Dropout regularisation\n",
    "regressor.add(LSTM(units = 50))\n",
    "regressor.add(Dropout(0.2))"
   ]
  },
  {
   "cell_type": "code",
   "execution_count": 23,
   "metadata": {},
   "outputs": [
    {
     "name": "stdout",
     "output_type": "stream",
     "text": [
      "Epoch 1/10\n",
      "71/71 [==============================] - 14s 118ms/step - loss: 0.5274\n",
      "Epoch 2/10\n",
      "71/71 [==============================] - 11s 149ms/step - loss: 0.4692\n",
      "Epoch 3/10\n",
      "71/71 [==============================] - 8s 108ms/step - loss: 0.4661\n",
      "Epoch 4/10\n",
      "71/71 [==============================] - 9s 126ms/step - loss: 0.4556\n",
      "Epoch 5/10\n",
      "71/71 [==============================] - 9s 120ms/step - loss: 0.4434\n",
      "Epoch 6/10\n",
      "71/71 [==============================] - 8s 116ms/step - loss: 0.4423\n",
      "Epoch 7/10\n",
      "71/71 [==============================] - 7s 101ms/step - loss: 0.4693\n",
      "Epoch 8/10\n",
      "71/71 [==============================] - 12s 168ms/step - loss: 0.4535\n",
      "Epoch 9/10\n",
      "71/71 [==============================] - 13s 188ms/step - loss: 0.4653\n",
      "Epoch 10/10\n",
      "71/71 [==============================] - 10s 147ms/step - loss: 0.4461\n"
     ]
    }
   ],
   "source": [
    "# Compiling the model \n",
    "regressor.compile(optimizer='adam', loss='binary_crossentropy')\n",
    "\n",
    "# Fitting the model \n",
    "history = regressor.fit(X_train, y_train, epochs = 10, batch_size = 40)"
   ]
  },
  {
   "cell_type": "code",
   "execution_count": 24,
   "metadata": {},
   "outputs": [
    {
     "data": {
      "image/png": "[encoded data removed]",
      "text/plain": [
       "<Figure size 432x288 with 1 Axes>"
      ]
     },
     "metadata": {
      "needs_background": "light"
     },
     "output_type": "display_data"
    },
    {
     "data": {
      "image/png": "[encoded data removed]",
      "text/plain": [
       "<Figure size 432x288 with 1 Axes>"
      ]
     },
     "metadata": {
      "needs_background": "light"
     },
     "output_type": "display_data"
    }
   ],
   "source": [
    "# Plotting the loss of the model overtime\n",
    "import matplotlib.pyplot as plt\n",
    "\n",
    "\n",
    "def plot_graphs(history, string):\n",
    "    plt.plot(history.history[string], 'ro-')\n",
    "    plt.title(\"Loss Of The Model OverTime\")\n",
    "    plt.xlabel(\"Loss\")\n",
    "    plt.ylabel(string)\n",
    "    plt.show()\n",
    "    \n",
    "def plot_histogram(history, string):\n",
    "    plt.hist(history.history[string])\n",
    "    plt.title(\"Loss Of The Model OverTime\")\n",
    "    plt.xlabel(\"Loss\")\n",
    "    plt.ylabel(string)\n",
    "    plt.show()\n",
    "    \n",
    "plot_graphs(history, 'loss')\n",
    "plot_histogram(history, 'loss')"
   ]
  },
  {
   "cell_type": "code",
   "execution_count": 27,
   "metadata": {},
   "outputs": [
    {
     "name": "stdout",
     "output_type": "stream",
     "text": [
      "Collecting pandas_datareader\n",
      "  Downloading pandas_datareader-0.9.0-py3-none-any.whl (107 kB)\n",
      "\u001b[K     |████████████████████████████████| 107 kB 71 kB/s eta 0:00:011\n",
      "\u001b[?25hRequirement already satisfied: lxml in /Users/yashsolanki/opt/anaconda3/lib/python3.8/site-packages (from pandas_datareader) (4.6.1)\n",
      "Requirement already satisfied: requests>=2.19.0 in /Users/yashsolanki/opt/anaconda3/lib/python3.8/site-packages (from pandas_datareader) (2.25.1)\n",
      "Requirement already satisfied: pandas>=0.23 in /Users/yashsolanki/opt/anaconda3/lib/python3.8/site-packages (from pandas_datareader) (1.1.3)\n",
      "Requirement already satisfied: urllib3<1.27,>=1.21.1 in /Users/yashsolanki/opt/anaconda3/lib/python3.8/site-packages (from requests>=2.19.0->pandas_datareader) (1.26.3)\n",
      "Requirement already satisfied: certifi>=2017.4.17 in /Users/yashsolanki/opt/anaconda3/lib/python3.8/site-packages (from requests>=2.19.0->pandas_datareader) (2020.6.20)\n",
      "Requirement already satisfied: chardet<5,>=3.0.2 in /Users/yashsolanki/opt/anaconda3/lib/python3.8/site-packages (from requests>=2.19.0->pandas_datareader) (3.0.4)\n",
      "Requirement already satisfied: idna<3,>=2.5 in /Users/yashsolanki/opt/anaconda3/lib/python3.8/site-packages (from requests>=2.19.0->pandas_datareader) (2.10)\n",
      "Requirement already satisfied: numpy>=1.15.4 in /Users/yashsolanki/opt/anaconda3/lib/python3.8/site-packages (from pandas>=0.23->pandas_datareader) (1.19.2)\n",
      "Requirement already satisfied: pytz>=2017.2 in /Users/yashsolanki/opt/anaconda3/lib/python3.8/site-packages (from pandas>=0.23->pandas_datareader) (2020.1)\n",
      "Requirement already satisfied: python-dateutil>=2.7.3 in /Users/yashsolanki/opt/anaconda3/lib/python3.8/site-packages (from pandas>=0.23->pandas_datareader) (2.8.1)\n",
      "Requirement already satisfied: six>=1.5 in /Users/yashsolanki/opt/anaconda3/lib/python3.8/site-packages (from python-dateutil>=2.7.3->pandas>=0.23->pandas_datareader) (1.15.0)\n",
      "Installing collected packages: pandas-datareader\n",
      "Successfully installed pandas-datareader-0.9.0\n"
     ]
    }
   ],
   "source": [
    "!pip3 install pandas_datareader"
   ]
  },
  {
   "cell_type": "code",
   "execution_count": 28,
   "metadata": {},
   "outputs": [],
   "source": [
    "import pandas_datareader as web"
   ]
  },
  {
   "cell_type": "code",
   "execution_count": 29,
   "metadata": {},
   "outputs": [],
   "source": [
    "crypto_currency = 'BTC' \n",
    "against_currency = 'USD'"
   ]
  },
  {
   "cell_type": "code",
   "execution_count": 32,
   "metadata": {},
   "outputs": [],
   "source": [
    "test_start = dt.datetime(2020,1,1)\n",
    "test_end = dt.datetime.now()"
   ]
  },
  {
   "cell_type": "code",
   "execution_count": 36,
   "metadata": {},
   "outputs": [],
   "source": [
    "test_data = web.DataReader(f'{crypto_currency}-{against_currency}', 'yahoo', test_start, test_end)"
   ]
  },
  {
   "cell_type": "code",
   "execution_count": 37,
   "metadata": {},
   "outputs": [
    {
     "name": "stdout",
     "output_type": "stream",
     "text": [
      "                    High           Low          Open         Close  \\\n",
      "Date                                                                 \n",
      "2019-12-31   7335.290039   7169.777832   7294.438965   7193.599121   \n",
      "2020-01-01   7254.330566   7174.944336   7194.892090   7200.174316   \n",
      "2020-01-02   7212.155273   6935.270020   7202.551270   6985.470215   \n",
      "2020-01-03   7413.715332   6914.996094   6984.428711   7344.884277   \n",
      "2020-01-04   7427.385742   7309.514160   7345.375488   7410.656738   \n",
      "...                  ...           ...           ...           ...   \n",
      "2021-06-02  39478.953125  37243.972656  37599.410156  39208.765625   \n",
      "2021-06-03  39242.484375  35717.722656  39242.484375  36894.406250   \n",
      "2021-06-04  37917.714844  34900.414062  36880.156250  35551.957031   \n",
      "2021-06-05  36436.421875  35304.578125  35538.609375  35862.378906   \n",
      "2021-06-07  36790.570312  35660.035156  35833.187500  35955.726562   \n",
      "\n",
      "                  Volume     Adj Close  \n",
      "Date                                    \n",
      "2019-12-31  2.116795e+10   7193.599121  \n",
      "2020-01-01  1.856566e+10   7200.174316  \n",
      "2020-01-02  2.080208e+10   6985.470215  \n",
      "2020-01-03  2.811148e+10   7344.884277  \n",
      "2020-01-04  1.844427e+10   7410.656738  \n",
      "...                  ...           ...  \n",
      "2021-06-02  3.546075e+10  39208.765625  \n",
      "2021-06-03  4.183109e+10  36894.406250  \n",
      "2021-06-04  3.595947e+10  35551.957031  \n",
      "2021-06-05  2.891344e+10  35862.378906  \n",
      "2021-06-07  2.927011e+10  35955.726562  \n",
      "\n",
      "[521 rows x 6 columns]\n"
     ]
    }
   ],
   "source": [
    "print(test_data)"
   ]
  },
  {
   "cell_type": "code",
   "execution_count": 38,
   "metadata": {},
   "outputs": [],
   "source": [
    "total_dataset = pd.concat((data['Close'], test_data['Close']), axis=0) "
   ]
  },
  {
   "cell_type": "code",
   "execution_count": 62,
   "metadata": {},
   "outputs": [],
   "source": [
    "actual_prices = test_data['Close'].values"
   ]
  },
  {
   "cell_type": "code",
   "execution_count": 77,
   "metadata": {},
   "outputs": [],
   "source": [
    "prediction_days = 60"
   ]
  },
  {
   "cell_type": "code",
   "execution_count": 42,
   "metadata": {},
   "outputs": [],
   "source": [
    "model_inputs = total_dataset[len(total_dataset) - len(test_data) - prediction_days:].values"
   ]
  },
  {
   "cell_type": "code",
   "execution_count": 47,
   "metadata": {},
   "outputs": [],
   "source": [
    "scaler = MinMaxScaler(feature_range = (0, 1))"
   ]
  },
  {
   "cell_type": "code",
   "execution_count": 51,
   "metadata": {},
   "outputs": [],
   "source": [
    "model_inputs = model_inputs.reshape(-1, 1)"
   ]
  },
  {
   "cell_type": "code",
   "execution_count": 52,
   "metadata": {},
   "outputs": [],
   "source": [
    "model_inputs = scaler.fit_transform(model_inputs)"
   ]
  },
  {
   "cell_type": "code",
   "execution_count": null,
   "metadata": {},
   "outputs": [],
   "source": [
    "print(model_inputs)"
   ]
  },
  {
   "cell_type": "code",
   "execution_count": 54,
   "metadata": {},
   "outputs": [],
   "source": [
    "x_test = []"
   ]
  },
  {
   "cell_type": "code",
   "execution_count": 55,
   "metadata": {},
   "outputs": [],
   "source": [
    "for x in range(prediction_days, len(model_inputs)):\n",
    "    x_test.append(model_inputs[x-prediction_days:x, 0])"
   ]
  },
  {
   "cell_type": "code",
   "execution_count": 57,
   "metadata": {},
   "outputs": [],
   "source": [
    "x_test = np.array(x_test)\n",
    "\n",
    "x_test = np.reshape(x_test, (x_test.shape[0], x_test.shape[1], 1))"
   ]
  },
  {
   "cell_type": "code",
   "execution_count": 58,
   "metadata": {},
   "outputs": [],
   "source": [
    "prediction_prices = regressor.predict(x_test)\n",
    "\n",
    "prediction_prices = scaler.inverse_transform(prediction_prices)"
   ]
  },
  {
   "cell_type": "code",
   "execution_count": 59,
   "metadata": {},
   "outputs": [
    {
     "name": "stdout",
     "output_type": "stream",
     "text": [
      "[[32227.295 35991.707 33736.668 ... 34094.74  36683.336 35613.715]\n",
      " [32062.082 35814.754 33606.508 ... 33744.09  36468.746 35341.145]\n",
      " [31422.686 35393.86  33171.29  ... 32767.512 36006.42  34747.062]\n",
      " ...\n",
      " [31605.984 36014.12  33494.668 ... 33648.05  36703.215 35652.047]\n",
      " [31849.861 36010.32  33573.582 ... 33865.97  36712.56  35654.465]\n",
      " [32065.574 36007.285 33662.168 ... 34021.652 36708.625 35646.426]]\n"
     ]
    }
   ],
   "source": [
    "print(prediction_prices)"
   ]
  },
  {
   "cell_type": "code",
   "execution_count": 66,
   "metadata": {},
   "outputs": [
    {
     "data": {
      "image/png": "[encoded data removed]",
      "text/plain": [
       "<Figure size 432x288 with 1 Axes>"
      ]
     },
     "metadata": {
      "needs_background": "light"
     },
     "output_type": "display_data"
    }
   ],
   "source": [
    "plt.plot(actual_prices, color='black', label='Actual Prices')\n",
    "plt.plot(prediction_prices, color='yellow', label='Prediction Prices')\n",
    "plt.show()"
   ]
  },
  {
   "cell_type": "markdown",
   "metadata": {},
   "source": [
    "# Prediction of the next day"
   ]
  },
  {
   "cell_type": "code",
   "execution_count": 67,
   "metadata": {},
   "outputs": [],
   "source": [
    "real_data = [model_inputs[len(model_inputs) + 1 - prediction_days:len(model_inputs) + 1, 0]]"
   ]
  },
  {
   "cell_type": "code",
   "execution_count": 73,
   "metadata": {},
   "outputs": [
    {
     "name": "stdout",
     "output_type": "stream",
     "text": [
      "[[0.93661279]\n",
      " [0.94364699]\n",
      " [0.93832497]\n",
      " [1.        ]\n",
      " [0.99327279]\n",
      " [0.99676343]\n",
      " [0.96701555]\n",
      " [0.95182798]\n",
      " [0.87550075]\n",
      " [0.86709659]\n",
      " [0.87988886]\n",
      " [0.83603401]\n",
      " [0.79940803]\n",
      " [0.78798498]\n",
      " [0.77016955]\n",
      " [0.75228871]\n",
      " [0.83801007]\n",
      " [0.85528868]\n",
      " [0.85172803]\n",
      " [0.83003769]\n",
      " [0.9017082 ]\n",
      " [0.90303866]\n",
      " [0.882589  ]\n",
      " [0.89231374]\n",
      " [0.82625228]\n",
      " [0.89613579]\n",
      " [0.87858163]\n",
      " [0.89498079]\n",
      " [0.91970843]\n",
      " [0.90994532]\n",
      " [0.86941207]\n",
      " [0.88384465]\n",
      " [0.75478785]\n",
      " [0.76445179]\n",
      " [0.76725951]\n",
      " [0.71395001]\n",
      " [0.70875412]\n",
      " [0.65889228]\n",
      " [0.64816136]\n",
      " [0.54724402]\n",
      " [0.61182842]\n",
      " [0.55240781]\n",
      " [0.5563704 ]\n",
      " [0.50911388]\n",
      " [0.5763481 ]\n",
      " [0.57115855]\n",
      " [0.58639751]\n",
      " [0.57175217]\n",
      " [0.52495159]\n",
      " [0.50647406]\n",
      " [0.52461884]\n",
      " [0.55288898]\n",
      " [0.54181944]\n",
      " [0.55702896]\n",
      " [0.58493792]\n",
      " [0.5453983 ]\n",
      " [0.52246326]\n",
      " [0.52776665]\n",
      " [0.52936145]]\n"
     ]
    }
   ],
   "source": [
    "real_data = np.array(real_data)\n",
    "real_data = np.reshape(real_data, (real_data.shape[0], real_data.shape[1], 1))\n",
    "\n",
    "print(real_data[0])"
   ]
  },
  {
   "cell_type": "code",
   "execution_count": 92,
   "metadata": {},
   "outputs": [
    {
     "name": "stdout",
     "output_type": "stream",
     "text": [
      "Prediction: 32205.96875\n",
      "\n",
      "\n",
      "\n",
      "\n",
      "\n",
      "[[ 32205.969  35963.297  33703.53   33605.91   35181.605  34790.57\n",
      "   34228.66   33006.066  35393.6    34825.777  34808.95   35383.52\n",
      "   35070.992  33667.895  34516.984  35287.1    34944.406  33313.68\n",
      "   31815.305  33764.977  32795.285  34632.457  32692.8    33423.137\n",
      "   32874.39   33755.113  34649.824  34531.55   35027.066  33925.797\n",
      "   32964.027  34651.684 -17438.592  35306.668  34754.79   33166.65\n",
      "   33733.098  34237.426  33987.566  33880.19   36278.72   34224.78\n",
      "   33330.375  33886.684  36571.434  34036.55   33863.188  34081.76\n",
      "   36662.83   35581.17 ]]\n"
     ]
    }
   ],
   "source": [
    "prediction = regressor.predict(real_data)\n",
    "prediction = scaler.inverse_transform(prediction)\n",
    "print(f\"Prediction: {prediction[0][0]}\")\n",
    "print(\"\\n\\n\\n\\n\")\n",
    "print(prediction)"
   ]
  },
  {
   "cell_type": "code",
   "execution_count": null,
   "metadata": {},
   "outputs": [],
   "source": []
  },
  {
   "cell_type": "code",
   "execution_count": null,
   "metadata": {},
   "outputs": [],
   "source": []
  },
  {
   "cell_type": "code",
   "execution_count": null,
   "metadata": {},
   "outputs": [],
   "source": []
  }
 ],
 "metadata": {
  "kernelspec": {
   "display_name": "Python 3",
   "language": "python",
   "name": "python3"
  },
  "language_info": {
   "codemirror_mode": {
    "name": "ipython",
    "version": 3
   },
   "file_extension": ".py",
   "mimetype": "text/x-python",
   "name": "python",
   "nbconvert_exporter": "python",
   "pygments_lexer": "ipython3",
   "version": "3.8.5"
  }
 },
 "nbformat": 4,
 "nbformat_minor": 4
}
